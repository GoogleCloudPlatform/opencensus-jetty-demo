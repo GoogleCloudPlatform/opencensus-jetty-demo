{
  "nbformat": 4,
  "nbformat_minor": 0,
  "metadata": {
    "colab": {
      "name": "tail_latency_lab.ipynb",
      "version": "0.3.2",
      "provenance": [],
      "collapsed_sections": [
        "VtA6NDptFTvE"
      ]
    },
    "kernelspec": {
      "name": "python2",
      "display_name": "Python 2"
    }
  },
  "cells": [
    {
      "cell_type": "markdown",
      "metadata": {
        "id": "VtA6NDptFTvE",
        "colab_type": "text"
      },
      "source": [
        "#### Copyright 2019 Google LLC."
      ]
    },
    {
      "cell_type": "markdown",
      "metadata": {
        "id": "lMyK4Y9vSrGU",
        "colab_type": "text"
      },
      "source": [
        "Licensed under the Apache License, Version 2.0 (the \"License\")\n",
        "you may not use this file except in compliance with the License.\n",
        "You may obtain a copy of the License at\n",
        "\n",
        " https://www.apache.org/licenses/LICENSE-2.0\n",
        "\n",
        "Unless required by applicable law or agreed to in writing, software\n",
        "distributed under the License is distributed on an \"AS IS\" BASIS\n",
        "WITHOUT WARRANTIES OR CONDITIONS OF ANY KIND, either express or implied.\n",
        "See the License for the specific language governing permissions and\n",
        "limitations under the License."
      ]
    },
    {
      "cell_type": "markdown",
      "metadata": {
        "id": "adiBq-bRSj-8",
        "colab_type": "text"
      },
      "source": [
        "## Tail Latency Lab"
      ]
    },
    {
      "cell_type": "code",
      "metadata": {
        "id": "P8erpZONFZwx",
        "colab_type": "code",
        "colab": {}
      },
      "source": [
        "import matplotlib.pyplot as plt\n",
        "import numpy as np\n",
        "import pandas as pd"
      ],
      "execution_count": 0,
      "outputs": []
    },
    {
      "cell_type": "markdown",
      "metadata": {
        "id": "KkX41ENTv-yv",
        "colab_type": "text"
      },
      "source": [
        "### Simulation"
      ]
    },
    {
      "cell_type": "markdown",
      "metadata": {
        "id": "826D4nkj9XEV",
        "colab_type": "text"
      },
      "source": [
        "#### Poisson Distribution"
      ]
    },
    {
      "cell_type": "code",
      "metadata": {
        "id": "gzRnEUyuxVcz",
        "colab_type": "code",
        "outputId": "b9d7c293-b4dc-4f43-b3a7-8904576bbcde",
        "colab": {
          "base_uri": "https://localhost:8080/",
          "height": 414
        }
      },
      "source": [
        "def simulate_dist(total, bins, title):\n",
        "  #raw = np.random.poisson(4, total) * 4.6\n",
        "  raw = np.random.beta(2, 5, total) * 70\n",
        "  mean = np.mean(raw, axis=0)\n",
        "  print(\"From raw data\")\n",
        "  print(\"Mean: {}\".format(mean))\n",
        "  p50 = np.percentile(raw, 50)\n",
        "  print(\"p50: {}\".format(p50))\n",
        "  fig = plt.figure(figsize=(15, 3))\n",
        "  p99 = np.percentile(raw, 99)\n",
        "  print(\"p99: {}\".format(p99))\n",
        "  fig = plt.figure(figsize=(15, 3))\n",
        "  ax1 = fig.add_subplot(1, 2, 1)\n",
        "  ax1.hist(raw, 25)\n",
        "  ax1.set_title(\"Beta distribution evenly distributed buckets\")\n",
        "  ax2 = fig.add_subplot(1, 2, 2)\n",
        "  count, bins, ignored = ax2.hist(raw, bins)\n",
        "  print(\"Ignored: \".format(ignored))\n",
        "  ax2.set_title(title)\n",
        "  plt.show()\n",
        "  print(\"Num buckets: {}\".format(len(bins)))\n",
        "  print(\"Buckets: {}\".format(bins))\n",
        "  print(\"Num bucket counts: {}\".format(len(count)))\n",
        "  print(\"Count: {}\".format(count))\n",
        "  return (count, bins)\n",
        "\n",
        "index = np.arange(0, 25)\n",
        "buckets_exp2 = [2**n for n in index]\n",
        "total = 100000\n",
        "count, bins = simulate_dist(total, buckets_exp2[:9], \"Buckets with growth factor 2.0\")"
      ],
      "execution_count": 3,
      "outputs": [
        {
          "output_type": "stream",
          "text": [
            "From raw data\n",
            "Mean: 19.9227700122\n",
            "p50: 18.4164832801\n",
            "p99: 49.1656636327\n",
            "Ignored: \n"
          ],
          "name": "stdout"
        },
        {
          "output_type": "display_data",
          "data": {
            "text/plain": [
              "<Figure size 1080x216 with 0 Axes>"
            ]
          },
          "metadata": {
            "tags": []
          }
        },
        {
          "output_type": "display_data",
          "data": {
            "image/png": "[encoded data removed]",
            "text/plain": [
              "<Figure size 1080x216 with 2 Axes>"
            ]
          },
          "metadata": {
            "tags": []
          }
        },
        {
          "output_type": "stream",
          "text": [
            "Num buckets: 9\n",
            "Buckets: [  1   2   4   8  16  32  64 128 256]\n",
            "Num bucket counts: 8\n",
            "Count: [8.0500e+02 3.0490e+03 1.0210e+04 2.7381e+04 4.2948e+04 1.5291e+04\n",
            " 2.0000e+00 0.0000e+00]\n"
          ],
          "name": "stdout"
        }
      ]
    },
    {
      "cell_type": "code",
      "metadata": {
        "id": "7P__54W1oXxs",
        "colab_type": "code",
        "outputId": "d86d1f5d-e213-4c67-deab-231084c03ce9",
        "colab": {
          "base_uri": "https://localhost:8080/",
          "height": 340
        }
      },
      "source": [
        "\"\"# Estimate percentiles from for Bucket-based sample\n",
        "def find_percentile(percentile, ind, ncount, bins, cum_count):\n",
        "  p = percentile / 100.0\n",
        "  pVal = bins[ind] + (bins[ind + 1] - bins[ind]) * (p * ncount -\n",
        "         cum_count[ind - 1]) / (cum_count[ind] - cum_count[ind - 1])\n",
        "  print(\"p{0} is in [{1}, {2})\".format(percentile, bins[ind], bins[ind + 1]))\n",
        "  print(\"p{0}: {1}\".format(percentile, pVal))\n",
        "\n",
        "def estimate_percentiles(count, bins):\n",
        "  ncounts = np.array(count)\n",
        "  ncount = np.sum(ncounts)\n",
        "  print(\"Sum: {}\".format(ncount))\n",
        "  p50rank = ncount * 0.5\n",
        "  print(\"50th percentile rank: {}\".format(p50rank))\n",
        "  p99rank = ncount * 0.99\n",
        "  print(\"99th percentile rank: {}\".format(p99rank))\n",
        "  print(\"Running sum of the buckets:\")\n",
        "  run_count = 0\n",
        "  cum_count = []\n",
        "  found_p50 = -1\n",
        "  found_p99 = -1\n",
        "  print(\"Index\\tLower\\tCummulative\")\n",
        "  for i in range(len(count)):\n",
        "    run_count += count[i]\n",
        "    cum_count.append(run_count)\n",
        "    arrow = \"\"\n",
        "    if (found_p50 < 0 and p50rank < run_count):\n",
        "      found_p50 = i\n",
        "      arrow = \"<== p50\"\n",
        "    if (found_p99 < 0 and p99rank < run_count):\n",
        "      found_p99 = i\n",
        "      arrow = \"<== p99\"\n",
        "    print(\"{0}\\t{1}\\t{2}\\t{3}\".format(i, bins[i], run_count, arrow))\n",
        "    arrow = \"\"\n",
        "  print(\"found_p50: {}\".format(found_p50))\n",
        "  print(\"found_p99: {}\".format(found_p99))\n",
        "  find_percentile(50, found_p50, ncount, bins, cum_count)\n",
        "  find_percentile(99, found_p99, ncount, bins, cum_count)\n",
        "\n",
        "estimate_percentiles(count, bins)  "
      ],
      "execution_count": 4,
      "outputs": [
        {
          "output_type": "stream",
          "text": [
            "Sum: 99686.0\n",
            "50th percentile rank: 49843.0\n",
            "99th percentile rank: 98689.14\n",
            "Running sum of the buckets:\n",
            "Index\tLower\tCummulative\n",
            "0\t1\t805.0\t\n",
            "1\t2\t3854.0\t\n",
            "2\t4\t14064.0\t\n",
            "3\t8\t41445.0\t\n",
            "4\t16\t84393.0\t<== p50\n",
            "5\t32\t99684.0\t<== p99\n",
            "6\t64\t99686.0\t\n",
            "7\t128\t99686.0\t\n",
            "found_p50: 4\n",
            "found_p99: 5\n",
            "p50 is in [16, 32)\n",
            "p50: 19.1286206575\n",
            "p99 is in [32, 64)\n",
            "p99: 61.9180223661\n"
          ],
          "name": "stdout"
        }
      ]
    },
    {
      "cell_type": "code",
      "metadata": {
        "id": "6k2FF1kK2nL4",
        "colab_type": "code",
        "outputId": "46bec96b-f537-448f-d5f2-2b40ee883d6e",
        "colab": {
          "base_uri": "https://localhost:8080/",
          "height": 448
        }
      },
      "source": [
        "buckets_exp1_4 = [1.4**n for n in index]\n",
        "count, bins = simulate_dist(total, buckets_exp1_4[:15], \"Exponential growth factor 1.4\")"
      ],
      "execution_count": 5,
      "outputs": [
        {
          "output_type": "stream",
          "text": [
            "From raw data\n",
            "Mean: 19.96034395\n",
            "p50: 18.5134020228\n",
            "p99: 49.4526492675\n",
            "Ignored: \n"
          ],
          "name": "stdout"
        },
        {
          "output_type": "display_data",
          "data": {
            "text/plain": [
              "<Figure size 1080x216 with 0 Axes>"
            ]
          },
          "metadata": {
            "tags": []
          }
        },
        {
          "output_type": "display_data",
          "data": {
            "image/png": "[encoded data removed]",
            "text/plain": [
              "<Figure size 1080x216 with 2 Axes>"
            ]
          },
          "metadata": {
            "tags": []
          }
        },
        {
          "output_type": "stream",
          "text": [
            "Num buckets: 15\n",
            "Buckets: [  1.           1.4          1.96         2.744        3.8416\n",
            "   5.37824      7.529536    10.5413504   14.75789056  20.66104678\n",
            "  28.9254655   40.4956517   56.69391238  79.37147733 111.12006826]\n",
            "Num bucket counts: 14\n",
            "Count: [  284.   478.   977.  1847.  3391.  5856.  9621. 14486. 19844. 21639.\n",
            " 16079.  5066.   123.     0.]\n"
          ],
          "name": "stdout"
        }
      ]
    },
    {
      "cell_type": "code",
      "metadata": {
        "id": "RbHH-iNV4dG-",
        "colab_type": "code",
        "outputId": "e6522380-94db-4b33-a278-7bf068ffbd9a",
        "colab": {
          "base_uri": "https://localhost:8080/",
          "height": 442
        }
      },
      "source": [
        "estimate_percentiles(count, bins)"
      ],
      "execution_count": 6,
      "outputs": [
        {
          "output_type": "stream",
          "text": [
            "Sum: 99691.0\n",
            "50th percentile rank: 49845.5\n",
            "99th percentile rank: 98694.09\n",
            "Running sum of the buckets:\n",
            "Index\tLower\tCummulative\n",
            "0\t1.0\t284.0\t\n",
            "1\t1.4\t762.0\t\n",
            "2\t1.96\t1739.0\t\n",
            "3\t2.744\t3586.0\t\n",
            "4\t3.8416\t6977.0\t\n",
            "5\t5.37824\t12833.0\t\n",
            "6\t7.529536\t22454.0\t\n",
            "7\t10.5413504\t36940.0\t\n",
            "8\t14.75789056\t56784.0\t<== p50\n",
            "9\t20.661046784\t78423.0\t\n",
            "10\t28.9254654976\t94502.0\t\n",
            "11\t40.4956516966\t99568.0\t<== p99\n",
            "12\t56.6939123753\t99691.0\t\n",
            "13\t79.3714773254\t99691.0\t\n",
            "found_p50: 8\n",
            "found_p99: 11\n",
            "p50 is in [14.75789056, 20.661046784)\n",
            "p50: 18.5969947048\n",
            "p99 is in [40.4956516966, 56.6939123753)\n",
            "p99: 53.8996324721\n"
          ],
          "name": "stdout"
        }
      ]
    },
    {
      "cell_type": "code",
      "metadata": {
        "id": "ZVv0UjKDKJ_U",
        "colab_type": "code",
        "outputId": "b2ab6a0e-3aad-428b-f873-a8d06e500462",
        "colab": {
          "base_uri": "https://localhost:8080/",
          "height": 482
        }
      },
      "source": [
        "buckets_exp1_2 = [1.2**n for n in index]\n",
        "count, bins = simulate_dist(total, buckets_exp1_2[:24], \"Exponential growth factor 1.2\")"
      ],
      "execution_count": 7,
      "outputs": [
        {
          "output_type": "stream",
          "text": [
            "From raw data\n",
            "Mean: 19.9109448115\n",
            "p50: 18.4212345271\n",
            "p99: 49.4403809279\n",
            "Ignored: \n"
          ],
          "name": "stdout"
        },
        {
          "output_type": "display_data",
          "data": {
            "text/plain": [
              "<Figure size 1080x216 with 0 Axes>"
            ]
          },
          "metadata": {
            "tags": []
          }
        },
        {
          "output_type": "display_data",
          "data": {
            "image/png": "[encoded data removed]",
            "text/plain": [
              "<Figure size 1080x216 with 2 Axes>"
            ]
          },
          "metadata": {
            "tags": []
          }
        },
        {
          "output_type": "stream",
          "text": [
            "Num buckets: 24\n",
            "Buckets: [ 1.          1.2         1.44        1.728       2.0736      2.48832\n",
            "  2.985984    3.5831808   4.29981696  5.15978035  6.19173642  7.43008371\n",
            "  8.91610045 10.69932054 12.83918465 15.40702157 18.48842589 22.18611107\n",
            " 26.62333328 31.94799994 38.33759992 46.00511991 55.20614389 66.24737267]\n",
            "Num bucket counts: 23\n",
            "Count: [  121.   155.   243.   369.   485.   659.  1030.  1321.  1906.  2602.\n",
            "  3458.  4590.  6006.  7367.  9038. 10553. 11699. 11960. 10854.  8335.\n",
            "  4898.  1823.   206.]\n"
          ],
          "name": "stdout"
        }
      ]
    },
    {
      "cell_type": "code",
      "metadata": {
        "id": "MQmew8VyNH3K",
        "colab_type": "code",
        "outputId": "0cbf08e6-4c1b-46ca-83c2-61947ba00d1b",
        "colab": {
          "base_uri": "https://localhost:8080/",
          "height": 595
        }
      },
      "source": [
        "estimate_percentiles(count, bins)"
      ],
      "execution_count": 8,
      "outputs": [
        {
          "output_type": "stream",
          "text": [
            "Sum: 99678.0\n",
            "50th percentile rank: 49839.0\n",
            "99th percentile rank: 98681.22\n",
            "Running sum of the buckets:\n",
            "Index\tLower\tCummulative\n",
            "0\t1.0\t121.0\t\n",
            "1\t1.2\t276.0\t\n",
            "2\t1.44\t519.0\t\n",
            "3\t1.728\t888.0\t\n",
            "4\t2.0736\t1373.0\t\n",
            "5\t2.48832\t2032.0\t\n",
            "6\t2.985984\t3062.0\t\n",
            "7\t3.5831808\t4383.0\t\n",
            "8\t4.29981696\t6289.0\t\n",
            "9\t5.159780352\t8891.0\t\n",
            "10\t6.1917364224\t12349.0\t\n",
            "11\t7.43008370688\t16939.0\t\n",
            "12\t8.91610044826\t22945.0\t\n",
            "13\t10.6993205379\t30312.0\t\n",
            "14\t12.8391846455\t39350.0\t\n",
            "15\t15.4070215746\t49903.0\t<== p50\n",
            "16\t18.4884258895\t61602.0\t\n",
            "17\t22.1861110674\t73562.0\t\n",
            "18\t26.6233332809\t84416.0\t\n",
            "19\t31.9479999371\t92751.0\t\n",
            "20\t38.3375999245\t97649.0\t\n",
            "21\t46.0051199094\t99472.0\t<== p99\n",
            "22\t55.2061438912\t99678.0\t\n",
            "found_p50: 15\n",
            "found_p99: 21\n",
            "p50 is in [15.4070215746, 18.4884258895)\n",
            "p50: 18.4697383242\n",
            "p99 is in [46.0051199094, 55.2061438912)\n",
            "p99: 51.2149284527\n"
          ],
          "name": "stdout"
        }
      ]
    },
    {
      "cell_type": "code",
      "metadata": {
        "id": "KfYL5znfj_-9",
        "colab_type": "code",
        "colab": {}
      },
      "source": [
        ""
      ],
      "execution_count": 0,
      "outputs": []
    }
  ]
}